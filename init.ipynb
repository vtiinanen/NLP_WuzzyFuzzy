{
 "cells": [
  {
   "cell_type": "markdown",
   "source": "## Initialization Notebook\nThis is your initialization notebook.\n\n**What's this for?**\n\nYou can put custom code you want us to run every time we setup your environment in here. \n\n**Awesome! Anything I should not put in here?**\n\nPlease don't install `jupyter` or `jedi` packages, they would break your Deepnote environment. Also, no need to put `!pip install`s here, we already save those automatically!\n\n**I want to learn more!**\n\nGreat! Just [head over to our docs](https://docs.deepnote.com/environment/custom-initialization).",
   "metadata": {
    "tags": [],
    "cell_id": "00000-db1b28c1-9093-4e10-8186-e440602170ed",
    "deepnote_cell_type": "markdown"
   }
  },
  {
   "cell_type": "code",
   "metadata": {
    "tags": [],
    "cell_id": "00001-89984473-1d74-4693-85e4-8ed5fd656a6c",
    "deepnote_to_be_reexecuted": false,
    "source_hash": "1296923a",
    "execution_start": 1634574588666,
    "execution_millis": 8195,
    "deepnote_cell_type": "code"
   },
   "source": "%%bash\n# If your project has a 'requirements.txt' file, we'll install it here apart from blacklisted packages that interfere with Deepnote (see above).\nif test -f requirements.txt\n  then\n    sed -i '/jedi/d;/jupyter/d;' ./requirements.txt\n    pip install -r ./requirements.txt\n  else echo \"There's no requirements.txt, so nothing to install. This is the case with most projects.\"\nfi\n\n# webdriver for selenium\napt-get update\napt-get install chromium-driver=90.0.4430.212-1~deb10u1 -y\napt-get install psmisc -y\n\n# spacy dependencies\npython3 -m spacy download en_core_web_sm",
   "execution_count": 2,
   "outputs": [
    {
     "name": "stdout",
     "text": "Requirement already satisfied: bs4 in /root/venv/lib/python3.7/site-packages (from -r ./requirements.txt (line 1)) (0.0.1)\nRequirement already satisfied: fuzzywuzzy in /root/venv/lib/python3.7/site-packages (from -r ./requirements.txt (line 2)) (0.18.0)\nRequirement already satisfied: python-Levenshtein in /root/venv/lib/python3.7/site-packages (from -r ./requirements.txt (line 3)) (0.12.2)\nRequirement already satisfied: matplotlib in /shared-libs/python3.7/py/lib/python3.7/site-packages (from -r ./requirements.txt (line 4)) (3.4.3)\nRequirement already satisfied: nltk in /shared-libs/python3.7/py/lib/python3.7/site-packages (from -r ./requirements.txt (line 5)) (3.6.5)\nRequirement already satisfied: wordcloud in /root/venv/lib/python3.7/site-packages (from -r ./requirements.txt (line 6)) (1.8.1)\nRequirement already satisfied: selenium in /root/venv/lib/python3.7/site-packages (from -r ./requirements.txt (line 7)) (4.0.0)\nRequirement already satisfied: beautifulsoup4 in /root/venv/lib/python3.7/site-packages (from bs4->-r ./requirements.txt (line 1)) (4.10.0)\nRequirement already satisfied: setuptools in /root/venv/lib/python3.7/site-packages (from python-Levenshtein->-r ./requirements.txt (line 3)) (58.1.0)\nRequirement already satisfied: numpy>=1.16 in /shared-libs/python3.7/py/lib/python3.7/site-packages (from matplotlib->-r ./requirements.txt (line 4)) (1.19.5)\nRequirement already satisfied: cycler>=0.10 in /shared-libs/python3.7/py/lib/python3.7/site-packages (from matplotlib->-r ./requirements.txt (line 4)) (0.10.0)\nRequirement already satisfied: pyparsing>=2.2.1 in /shared-libs/python3.7/py-core/lib/python3.7/site-packages (from matplotlib->-r ./requirements.txt (line 4)) (2.4.7)\nRequirement already satisfied: kiwisolver>=1.0.1 in /shared-libs/python3.7/py/lib/python3.7/site-packages (from matplotlib->-r ./requirements.txt (line 4)) (1.3.2)\nRequirement already satisfied: python-dateutil>=2.7 in /shared-libs/python3.7/py-core/lib/python3.7/site-packages (from matplotlib->-r ./requirements.txt (line 4)) (2.8.2)\nRequirement already satisfied: pillow>=6.2.0 in /shared-libs/python3.7/py/lib/python3.7/site-packages (from matplotlib->-r ./requirements.txt (line 4)) (8.3.2)\nRequirement already satisfied: joblib in /shared-libs/python3.7/py/lib/python3.7/site-packages (from nltk->-r ./requirements.txt (line 5)) (1.1.0)\nRequirement already satisfied: click in /shared-libs/python3.7/py/lib/python3.7/site-packages (from nltk->-r ./requirements.txt (line 5)) (8.0.3)\nRequirement already satisfied: tqdm in /shared-libs/python3.7/py/lib/python3.7/site-packages (from nltk->-r ./requirements.txt (line 5)) (4.62.3)\nRequirement already satisfied: regex>=2021.8.3 in /shared-libs/python3.7/py/lib/python3.7/site-packages (from nltk->-r ./requirements.txt (line 5)) (2021.10.8)\nRequirement already satisfied: urllib3[secure]~=1.26 in /shared-libs/python3.7/py/lib/python3.7/site-packages (from selenium->-r ./requirements.txt (line 7)) (1.26.7)\nRequirement already satisfied: trio~=0.17 in /root/venv/lib/python3.7/site-packages (from selenium->-r ./requirements.txt (line 7)) (0.19.0)\nRequirement already satisfied: trio-websocket~=0.9 in /root/venv/lib/python3.7/site-packages (from selenium->-r ./requirements.txt (line 7)) (0.9.2)\nRequirement already satisfied: six in /shared-libs/python3.7/py-core/lib/python3.7/site-packages (from cycler>=0.10->matplotlib->-r ./requirements.txt (line 4)) (1.16.0)\nRequirement already satisfied: async-generator>=1.9 in /root/venv/lib/python3.7/site-packages (from trio~=0.17->selenium->-r ./requirements.txt (line 7)) (1.10)\nRequirement already satisfied: idna in /shared-libs/python3.7/py-core/lib/python3.7/site-packages (from trio~=0.17->selenium->-r ./requirements.txt (line 7)) (3.3)\nRequirement already satisfied: sortedcontainers in /root/venv/lib/python3.7/site-packages (from trio~=0.17->selenium->-r ./requirements.txt (line 7)) (2.4.0)\nRequirement already satisfied: sniffio in /root/venv/lib/python3.7/site-packages (from trio~=0.17->selenium->-r ./requirements.txt (line 7)) (1.2.0)\nRequirement already satisfied: attrs>=19.2.0 in /shared-libs/python3.7/py-core/lib/python3.7/site-packages (from trio~=0.17->selenium->-r ./requirements.txt (line 7)) (21.2.0)\nRequirement already satisfied: outcome in /root/venv/lib/python3.7/site-packages (from trio~=0.17->selenium->-r ./requirements.txt (line 7)) (1.1.0)\nRequirement already satisfied: wsproto>=0.14 in /root/venv/lib/python3.7/site-packages (from trio-websocket~=0.9->selenium->-r ./requirements.txt (line 7)) (1.0.0)\nRequirement already satisfied: certifi in /shared-libs/python3.7/py/lib/python3.7/site-packages (from urllib3[secure]~=1.26->selenium->-r ./requirements.txt (line 7)) (2021.10.8)\nRequirement already satisfied: pyOpenSSL>=0.14 in /shared-libs/python3.7/py/lib/python3.7/site-packages (from urllib3[secure]~=1.26->selenium->-r ./requirements.txt (line 7)) (20.0.1)\nRequirement already satisfied: cryptography>=1.3.4 in /shared-libs/python3.7/py/lib/python3.7/site-packages (from urllib3[secure]~=1.26->selenium->-r ./requirements.txt (line 7)) (3.4.8)\nRequirement already satisfied: cffi>=1.12 in /shared-libs/python3.7/py-core/lib/python3.7/site-packages (from cryptography>=1.3.4->urllib3[secure]~=1.26->selenium->-r ./requirements.txt (line 7)) (1.14.6)\nRequirement already satisfied: pycparser in /shared-libs/python3.7/py-core/lib/python3.7/site-packages (from cffi>=1.12->cryptography>=1.3.4->urllib3[secure]~=1.26->selenium->-r ./requirements.txt (line 7)) (2.20)\nRequirement already satisfied: h11<1,>=0.9.0 in /root/venv/lib/python3.7/site-packages (from wsproto>=0.14->trio-websocket~=0.9->selenium->-r ./requirements.txt (line 7)) (0.12.0)\nRequirement already satisfied: soupsieve>1.2 in /root/venv/lib/python3.7/site-packages (from beautifulsoup4->bs4->-r ./requirements.txt (line 1)) (2.2.1)\nRequirement already satisfied: importlib-metadata in /shared-libs/python3.7/py-core/lib/python3.7/site-packages (from click->nltk->-r ./requirements.txt (line 5)) (4.8.1)\nRequirement already satisfied: typing-extensions>=3.6.4 in /shared-libs/python3.7/py-core/lib/python3.7/site-packages (from importlib-metadata->click->nltk->-r ./requirements.txt (line 5)) (3.10.0.2)\nRequirement already satisfied: zipp>=0.5 in /shared-libs/python3.7/py-core/lib/python3.7/site-packages (from importlib-metadata->click->nltk->-r ./requirements.txt (line 5)) (3.6.0)\nHit:1 http://security.debian.org/debian-security buster/updates InRelease\nHit:2 http://deb.debian.org/debian buster InRelease\nHit:3 http://deb.debian.org/debian buster-updates InRelease\nReading package lists...\nReading package lists...\nBuilding dependency tree...\nReading state information...\nchromium-driver is already the newest version (90.0.4430.212-1~deb10u1).\n0 upgraded, 0 newly installed, 0 to remove and 0 not upgraded.\nReading package lists...\nBuilding dependency tree...\nReading state information...\npsmisc is already the newest version (23.2-1+deb10u1).\n0 upgraded, 0 newly installed, 0 to remove and 0 not upgraded.\nWARNING: You are using pip version 21.2.4; however, version 21.3 is available.\nYou should consider upgrading via the '/root/venv/bin/python -m pip install --upgrade pip' command.\n",
     "output_type": "stream"
    }
   ]
  },
  {
   "cell_type": "code",
   "source": "",
   "metadata": {
    "tags": [],
    "cell_id": "00002-8123a356-3ab6-4083-968a-91cfb0a40449",
    "deepnote_to_be_reexecuted": false,
    "source_hash": "b623e53d",
    "execution_start": 1634574596858,
    "execution_millis": 6,
    "deepnote_cell_type": "code"
   },
   "outputs": [],
   "execution_count": 2
  },
  {
   "cell_type": "code",
   "source": "",
   "metadata": {
    "tags": [],
    "cell_id": "00003-ada39aaf-4f82-46e7-a056-383abf7910c8",
    "deepnote_cell_type": "code"
   },
   "outputs": [],
   "execution_count": null
  },
  {
   "cell_type": "markdown",
   "source": "<a style='text-decoration:none;line-height:16px;display:flex;color:#5B5B62;padding:10px;justify-content:end;' href='https://deepnote.com?utm_source=created-in-deepnote-cell&projectId=df8df42c-8503-4bb3-8c9d-497cf36bf82c' target=\"_blank\">\n<img alt='Created in deepnote.com' style='display:inline;max-height:16px;margin:0px;margin-right:7.5px;' src='data:image/svg+xml;base64,PD94bWwgdmVyc2lvbj0iMS4wIiBlbmNvZGluZz0iVVRGLTgiPz4KPHN2ZyB3aWR0aD0iODBweCIgaGVpZ2h0PSI4MHB4IiB2aWV3Qm94PSIwIDAgODAgODAiIHZlcnNpb249IjEuMSIgeG1sbnM9Imh0dHA6Ly93d3cudzMub3JnLzIwMDAvc3ZnIiB4bWxuczp4bGluaz0iaHR0cDovL3d3dy53My5vcmcvMTk5OS94bGluayI+CiAgICA8IS0tIEdlbmVyYXRvcjogU2tldGNoIDU0LjEgKDc2NDkwKSAtIGh0dHBzOi8vc2tldGNoYXBwLmNvbSAtLT4KICAgIDx0aXRsZT5Hcm91cCAzPC90aXRsZT4KICAgIDxkZXNjPkNyZWF0ZWQgd2l0aCBTa2V0Y2guPC9kZXNjPgogICAgPGcgaWQ9IkxhbmRpbmciIHN0cm9rZT0ibm9uZSIgc3Ryb2tlLXdpZHRoPSIxIiBmaWxsPSJub25lIiBmaWxsLXJ1bGU9ImV2ZW5vZGQiPgogICAgICAgIDxnIGlkPSJBcnRib2FyZCIgdHJhbnNmb3JtPSJ0cmFuc2xhdGUoLTEyMzUuMDAwMDAwLCAtNzkuMDAwMDAwKSI+CiAgICAgICAgICAgIDxnIGlkPSJHcm91cC0zIiB0cmFuc2Zvcm09InRyYW5zbGF0ZSgxMjM1LjAwMDAwMCwgNzkuMDAwMDAwKSI+CiAgICAgICAgICAgICAgICA8cG9seWdvbiBpZD0iUGF0aC0yMCIgZmlsbD0iIzAyNjVCNCIgcG9pbnRzPSIyLjM3NjIzNzYyIDgwIDM4LjA0NzY2NjcgODAgNTcuODIxNzgyMiA3My44MDU3NTkyIDU3LjgyMTc4MjIgMzIuNzU5MjczOSAzOS4xNDAyMjc4IDMxLjY4MzE2ODMiPjwvcG9seWdvbj4KICAgICAgICAgICAgICAgIDxwYXRoIGQ9Ik0zNS4wMDc3MTgsODAgQzQyLjkwNjIwMDcsNzYuNDU0OTM1OCA0Ny41NjQ5MTY3LDcxLjU0MjI2NzEgNDguOTgzODY2LDY1LjI2MTk5MzkgQzUxLjExMjI4OTksNTUuODQxNTg0MiA0MS42NzcxNzk1LDQ5LjIxMjIyODQgMjUuNjIzOTg0Niw0OS4yMTIyMjg0IEMyNS40ODQ5Mjg5LDQ5LjEyNjg0NDggMjkuODI2MTI5Niw0My4yODM4MjQ4IDM4LjY0NzU4NjksMzEuNjgzMTY4MyBMNzIuODcxMjg3MSwzMi41NTQ0MjUgTDY1LjI4MDk3Myw2Ny42NzYzNDIxIEw1MS4xMTIyODk5LDc3LjM3NjE0NCBMMzUuMDA3NzE4LDgwIFoiIGlkPSJQYXRoLTIyIiBmaWxsPSIjMDAyODY4Ij48L3BhdGg+CiAgICAgICAgICAgICAgICA8cGF0aCBkPSJNMCwzNy43MzA0NDA1IEwyNy4xMTQ1MzcsMC4yNTcxMTE0MzYgQzYyLjM3MTUxMjMsLTEuOTkwNzE3MDEgODAsMTAuNTAwMzkyNyA4MCwzNy43MzA0NDA1IEM4MCw2NC45NjA0ODgyIDY0Ljc3NjUwMzgsNzkuMDUwMzQxNCAzNC4zMjk1MTEzLDgwIEM0Ny4wNTUzNDg5LDc3LjU2NzA4MDggNTMuNDE4MjY3Nyw3MC4zMTM2MTAzIDUzLjQxODI2NzcsNTguMjM5NTg4NSBDNTMuNDE4MjY3Nyw0MC4xMjg1NTU3IDM2LjMwMzk1NDQsMzcuNzMwNDQwNSAyNS4yMjc0MTcsMzcuNzMwNDQwNSBDMTcuODQzMDU4NiwzNy43MzA0NDA1IDkuNDMzOTE5NjYsMzcuNzMwNDQwNSAwLDM3LjczMDQ0MDUgWiIgaWQ9IlBhdGgtMTkiIGZpbGw9IiMzNzkzRUYiPjwvcGF0aD4KICAgICAgICAgICAgPC9nPgogICAgICAgIDwvZz4KICAgIDwvZz4KPC9zdmc+' > </img>\nCreated in <span style='font-weight:600;margin-left:4px;'>Deepnote</span></a>",
   "metadata": {
    "tags": [],
    "created_in_deepnote_cell": true,
    "deepnote_cell_type": "markdown"
   }
  }
 ],
 "nbformat": 4,
 "nbformat_minor": 2,
 "metadata": {
  "orig_nbformat": 2,
  "deepnote": {
   "is_reactive": false
  },
  "deepnote_notebook_id": "5cb67ceb-4d07-488a-93b7-e673dcfe7dd1",
  "deepnote_execution_queue": []
 }
}